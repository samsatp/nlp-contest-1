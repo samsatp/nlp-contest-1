{
 "cells": [
  {
   "cell_type": "code",
   "execution_count": 1,
   "id": "3b0d53dc",
   "metadata": {},
   "outputs": [],
   "source": [
    "import pandas as pd\n",
    "import numpy as np\n",
    "\n",
    "TRAIN = pd.read_csv(\"TRAIN.csv\")\n",
    "DEV   = pd.read_csv(\"DEV.csv\")\n",
    "\n",
    "def preprocess(df):\n",
    "    df['target'] = df['aspectCategory']+ '-'+ df['polarity']\n",
    "    df_dummy = pd.get_dummies(df, columns=['target'])\n",
    "    return df[['id','text','target']]\n",
    "\n",
    "train = preprocess(TRAIN)\n",
    "dev   = preprocess(DEV)"
   ]
  },
  {
   "cell_type": "code",
   "execution_count": 2,
   "id": "df9f771c",
   "metadata": {},
   "outputs": [],
   "source": [
    "from sklearn.model_selection import train_test_split\n",
    "from sklearn.feature_extraction.text import CountVectorizer\n",
    "\n",
    "X_train, X_dev, Y_train, Y_dev = train['text'], dev['text'], train['target'], dev['target']\n",
    "\n",
    "vect = CountVectorizer()\n",
    "X_train_bow = vect.fit_transform(X_train)\n",
    "X_dev_bow = vect.transform(X_dev)"
   ]
  },
  {
   "cell_type": "code",
   "execution_count": 3,
   "id": "9c28dafc",
   "metadata": {},
   "outputs": [
    {
     "data": {
      "text/plain": [
       "LogisticRegression(max_iter=300)"
      ]
     },
     "execution_count": 3,
     "metadata": {},
     "output_type": "execute_result"
    }
   ],
   "source": [
    "from sklearn.linear_model import LogisticRegression\n",
    "\n",
    "logreg = LogisticRegression(max_iter=300)\n",
    "logreg.fit(X_train_bow, Y_train)"
   ]
  },
  {
   "cell_type": "code",
   "execution_count": 4,
   "id": "42707606",
   "metadata": {},
   "outputs": [],
   "source": [
    "dev_pred = logreg.predict(X_dev_bow)"
   ]
  },
  {
   "cell_type": "code",
   "execution_count": 5,
   "id": "266dcb56",
   "metadata": {},
   "outputs": [],
   "source": [
    "dev_pred_df = pd.DataFrame({\n",
    "    'id':DEV.id,\n",
    "    'aspectCategory': [e.split('-')[0] for e in dev_pred],\n",
    "    'polarity': [e.split('-')[1] for e in dev_pred]\n",
    "})"
   ]
  },
  {
   "cell_type": "markdown",
   "id": "c6518acf",
   "metadata": {},
   "source": [
    "# Eval"
   ]
  },
  {
   "cell_type": "code",
   "execution_count": 7,
   "id": "80dbb572",
   "metadata": {},
   "outputs": [],
   "source": [
    "from evaluate import reports"
   ]
  },
  {
   "cell_type": "code",
   "execution_count": 9,
   "id": "6ce54b47",
   "metadata": {},
   "outputs": [],
   "source": [
    "dev_pred_df.to_csv(\"dev_pred_df.csv\", index=False)"
   ]
  },
  {
   "cell_type": "code",
   "execution_count": 10,
   "id": "4d43d84b",
   "metadata": {},
   "outputs": [
    {
     "name": "stdout",
     "output_type": "stream",
     "text": [
      "=== CLASSIFICATION : ASPECT ===\n",
      "                class name  precision  recall  F1-score  support\n",
      "0                     food      0.605   0.617     0.611      261\n",
      "1                    price      0.220   0.127     0.161       71\n",
      "2                  service      0.490   0.381     0.429      134\n",
      "3                 ambience      0.304   0.177     0.224       96\n",
      "4  anecdotes/miscellaneous      0.648   0.811     0.720      227\n",
      "5                MACRO AVG      0.453   0.422     0.429      789\n",
      "6                MICRO AVG      0.562   0.535     0.548      789 \n",
      "\n",
      "=== CLASSIFICATION : SENTIMENT ===\n",
      "  class name  precision  recall  F1-score  support\n",
      "0   positive      0.718   0.875     0.789      440\n",
      "1   negative      0.587   0.423     0.492      175\n",
      "2    neutral      0.378   0.280     0.322      100\n",
      "3   conflict      0.400   0.128     0.194       47\n",
      "4  MACRO AVG      0.521   0.426     0.449      762\n",
      "5  MICRO AVG      0.656   0.647     0.652      762 \n",
      "\n",
      "=== CLASSIFICATION : OVERALL ===\n",
      "              precision  recall  F1-score  support\n",
      "0  MICRO AVG      0.377   0.359     0.368      789 \n",
      "\n"
     ]
    }
   ],
   "source": [
    "reports(\"DEV.csv\", \"dev_pred_df.csv\")"
   ]
  }
 ],
 "metadata": {
  "kernelspec": {
   "display_name": "Python 3 (ipykernel)",
   "language": "python",
   "name": "python3"
  },
  "language_info": {
   "codemirror_mode": {
    "name": "ipython",
    "version": 3
   },
   "file_extension": ".py",
   "mimetype": "text/x-python",
   "name": "python",
   "nbconvert_exporter": "python",
   "pygments_lexer": "ipython3",
   "version": "3.10.0"
  }
 },
 "nbformat": 4,
 "nbformat_minor": 5
}
